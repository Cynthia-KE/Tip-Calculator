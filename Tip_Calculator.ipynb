{
 "cells": [
  {
   "cell_type": "markdown",
   "id": "88e685db-c82a-478b-bc2a-b783f0519207",
   "metadata": {},
   "source": [
    "# TIP CALCULATOR 🧮\n",
    "----"
   ]
  },
  {
   "cell_type": "code",
   "execution_count": 2,
   "id": "ace58c14-1b40-4ffd-a69c-f61bb3b68e0d",
   "metadata": {
    "tags": []
   },
   "outputs": [
    {
     "name": "stdin",
     "output_type": "stream",
     "text": [
      "Charge for food: $ 50\n"
     ]
    },
    {
     "name": "stdout",
     "output_type": "stream",
     "text": [
      "\n",
      "    Tip = $9.0\n",
      "    Sales tax = $3.5\n",
      "    Grand total = $62.5\n",
      "\n"
     ]
    }
   ],
   "source": [
    "#Input for the amount charged\n",
    "charge= float(input('Charge for food: $'))\n",
    "\n",
    "\n",
    "#Calculations for the tip, sales tax(tax) and grand total(total)\n",
    "tip= round(0.18*charge, 2)\n",
    "tax= round(0.07*charge, 2)\n",
    "total= round(charge + tip + tax, 2)\n",
    "\n",
    "\n",
    "#Final output for the tip, sales tax and grand total\n",
    "print(f'''\n",
    "    Tip = ${tip}\n",
    "    Sales tax = ${tax}\n",
    "    Grand total = ${total}\n",
    "''')"
   ]
  }
 ],
 "metadata": {
  "kernelspec": {
   "display_name": "Python 3 (ipykernel)",
   "language": "python",
   "name": "python3"
  },
  "language_info": {
   "codemirror_mode": {
    "name": "ipython",
    "version": 3
   },
   "file_extension": ".py",
   "mimetype": "text/x-python",
   "name": "python",
   "nbconvert_exporter": "python",
   "pygments_lexer": "ipython3",
   "version": "3.11.7"
  }
 },
 "nbformat": 4,
 "nbformat_minor": 5
}
